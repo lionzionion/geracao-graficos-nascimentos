{
  "nbformat": 4,
  "nbformat_minor": 0,
  "metadata": {
    "colab": {
      "provenance": []
    },
    "kernelspec": {
      "name": "python3",
      "display_name": "Python 3"
    },
    "language_info": {
      "name": "python"
    }
  },
  "cells": [
    {
      "cell_type": "code",
      "source": [
        "import os\n",
        "import pandas as pd\n",
        "import matplotlib.pyplot as plt\n",
        "\n",
        "def criar_diretorios_e_graficos(arquivos, mes_escolhido):\n",
        "    for arquivo in arquivos:\n",
        "        # Obter o mês a partir do nome do arquivo\n",
        "        mes = arquivo.split(\"_\")[3][:3]\n",
        "\n",
        "        # Verificar se o mês corresponde à escolha do usuário\n",
        "        if mes.upper() == mes_escolhido.upper():\n",
        "            # Ler o arquivo CSV\n",
        "            df = pd.read_csv(arquivo)\n",
        "\n",
        "            # Criar diretório\n",
        "            diretorio = f\"2019-{mes}\"\n",
        "            os.makedirs(diretorio, exist_ok=True)\n",
        "\n",
        "            # Criar gráfico de barras empilhadas\n",
        "            plt.figure(figsize=(10, 6))\n",
        "            plt.hist([df[df['IDADEMAE'] <= 18]['IDADEMAE'],\n",
        "                      df[(df['IDADEMAE'] > 18) & (df['IDADEMAE'] <= 35)]['IDADEMAE'],\n",
        "                      df[df['IDADEMAE'] > 35]['IDADEMAE']], bins=20, stacked=True, color=['blue', 'green', 'orange'])\n",
        "\n",
        "            plt.title(f\"Distribuição de Idades das Mães para {mes}\")\n",
        "            plt.xlabel(\"Idade da Mãe\")\n",
        "            plt.ylabel(\"Número de Nascimentos\")\n",
        "            plt.legend(['<= 18 anos', '19-35 anos', '> 35 anos'])\n",
        "            plt.savefig(os.path.join(diretorio, f\"grafico_{mes}.png\"))\n",
        "            plt.close()\n",
        "\n",
        "if __name__ == \"__main__\":\n",
        "    # Lista de arquivos fornecidos\n",
        "    arquivos = [\n",
        "        \"SINASC_RO_2019_ABR.csv\",\n",
        "        \"SINASC_RO_2019_AGO.csv\",\n",
        "        \"SINASC_RO_2019_DEZ.csv\",\n",
        "        \"SINASC_RO_2019_FEV.csv\",\n",
        "        \"SINASC_RO_2019_JAN.csv\",\n",
        "        \"SINASC_RO_2019_JUL.csv\",\n",
        "        \"SINASC_RO_2019_JUN.csv\",\n",
        "        \"SINASC_RO_2019_MAI.csv\",\n",
        "        \"SINASC_RO_2019_MAR.csv\",\n",
        "        \"SINASC_RO_2019_NOV.csv\",\n",
        "        \"SINASC_RO_2019_OUT.csv\",\n",
        "        \"SINASC_RO_2019_SET.csv\",\n",
        "    ]\n",
        "\n",
        "    # Solicitar ao usuário escolher o mês desejado\n",
        "    mes_escolhido = input(\"Digite o mês desejado (ex: JAN, FEV, MAR): \")\n",
        "\n",
        "    # Chamar a função para criar diretórios e gráficos para o mês escolhido\n",
        "    criar_diretorios_e_graficos(arquivos, mes_escolhido)\n",
        "\n",
        "    print(f\"Diretórios e gráficos para {mes_escolhido.upper()} gerados com sucesso!\")\n"
      ],
      "metadata": {
        "colab": {
          "base_uri": "https://localhost:8080/"
        },
        "id": "fFYCfO_4Pu8X",
        "outputId": "4926bc66-6250-4770-a73e-4c33f5a45104"
      },
      "execution_count": 21,
      "outputs": [
        {
          "output_type": "stream",
          "name": "stdout",
          "text": [
            "Digite o mês desejado (ex: JAN, FEV, MAR): abr,mai\n",
            "Diretórios e gráficos para ABR,MAI gerados com sucesso!\n"
          ]
        }
      ]
    }
  ]
}